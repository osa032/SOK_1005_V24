{
 "cells": [
  {
   "cell_type": "markdown",
   "id": "788a6bd2",
   "metadata": {
    "id": "ZGsFaUvACvij"
   },
   "source": [
    "# Laste inn data\n",
    "\n",
    "Hoveddelen av koden er hentet fra koden funnet i oppgaven, eller andre koder fra githubrepositoriet til SOK-1006\n",
    "\n",
    "Lenke til datavask :https://github.com/uit-sok-1006-v24/sok-1006_notater/blob/main/data_vask_mappe1.ipynb\n",
    "\n",
    "Lenke til repo: https://github.com/uit-sok-1006-v24/sok-1006_notater"
   ]
  },
  {
   "cell_type": "markdown",
   "id": "ff067781",
   "metadata": {
    "id": "wEJZ6BjqBzge"
   },
   "source": [
    "# Samfunnsøkonomisk Analyse av Boligmarkedet i Tromsø 2019-2023\n",
    "Mappeoppgave 1\n",
    "\n",
    "SOK-1006 Mikroøkonomi\n",
    "\n",
    "Kandidatnummer: 42"
   ]
  },
  {
   "cell_type": "markdown",
   "id": "9436c6a4",
   "metadata": {
    "id": "4lBdey4vB9WM"
   },
   "source": [
    "## Sammendrag\n",
    "Denne analysen gir et bilde av boligmarkedet i Tromsø i tiden 2019-2023. Analysen er i hovedsak basert på data fra Mediehuset iTromsø over alle boligsalg i Tromsø over perioden, med supplerende informasjon fra SSB. Jeg går igjennom den historiske bakgrunnen til det norske boligmarkedet, norsk boligmarkedsstruktur i skandinavisk kontekst og teorien om perfekt marked og det frie markedet som optimal distributør av ressurser.\n",
    "\n",
    "Kapittel 1 er en introduksjon til temaet. Her presenteres den historiske bakgrunnen for det Norske boligmarkedet, og eventuell problematikk når bolimarkedet ikke fungerer som distributør av ressurser.\n",
    "\n",
    "Kapittel 2 forklarer teoriene bak markedskrysset. Og hvorfor boligmarkedet aldri vil kunne være i likevekt og hvorfor staten må komme inn og regulere.\n",
    "\n",
    "Kapittel 3.1 Presenteres dataene og videre data over Tromsø. Viser på elastisiteten i etterspørselen og utviklingen av boligkjøp over tid. Vi ser at det konsekvent er ulikheter i prisene i Tromsøs områder, som peker på en markedssegmentering som peker til et imperfekt marked.\n",
    "\n",
    "Kapittel 3.2 Presenteres potensielle løsninger på boligpriskrisen, med samfunnsøkonomiske innsigelser mot tiltakene.\n",
    "\n",
    "Kapittel 4 Konklusjon"
   ]
  },
  {
   "cell_type": "markdown",
   "id": "838a1590",
   "metadata": {
    "id": "0fmQgr8ACCvy"
   },
   "source": [
    "## 1. Introduksjon"
   ]
  },
  {
   "cell_type": "markdown",
   "id": "b96136c6",
   "metadata": {
    "id": "Cl2PMa8_Hs83"
   },
   "source": []
  },
  {
   "cell_type": "markdown",
   "id": "60301f68",
   "metadata": {
    "id": "gkQuB6e-CGJh"
   },
   "source": [
    "## 2. Teoretisk rammeverk: Boligmarkedsdynamikker, Markedskryss og Samfunnsøkonomisk Velferd"
   ]
  },
  {
   "cell_type": "markdown",
   "id": "6a9451a0",
   "metadata": {
    "id": "LpeVhZBxKQxb"
   },
   "source": [
    "### 2.1 Perfekte Marked og relasjonen til Boligmarkedet"
   ]
  },
  {
   "cell_type": "markdown",
   "id": "f4f7362b",
   "metadata": {
    "id": "0s_7gJy1KX0d"
   },
   "source": [
    "Boligmarkedet spiller en sentral rolle i økonomilandskapet. Det har ikke bare innvirkning på individer og husholdningers velferd, men også den samfunnsøkonomiske velferden i et land. For å sette fingeren på hvor komplekst det faktisk er skal jeg sette karakteristikkene i boligmarkedet opp mot teorien om det perfekte marked, en sentral del av makroøkonomisk teori. Et perfekt marked, karakterisert av perfekt konkurranse, komplett informasjon for alle parter, uten transaksjonskostnader eller inngangsprisen, så mange kjøpere og selgere at ingen alene kan affektere prisen, er et idealisert marked som vi kan bruke til å måle kompleksiteten i boligmarkedet."
   ]
  },
  {
   "cell_type": "markdown",
   "id": "9ded3d59",
   "metadata": {
    "id": "-t0DTPSkKYst"
   },
   "source": [
    "### 2.2 Likevekt Mellom Kjøpere og Selgere i Boligmarkedet"
   ]
  },
  {
   "cell_type": "markdown",
   "id": "70a3aa51",
   "metadata": {
    "id": "DJo1onjeK5Re"
   },
   "source": [
    "Når kvanta tilbydd og kvanta etterspurt utlignes, når man markedslikevekt som resulterer i en stabil likevektspris. Denne likevekten er grunnpillar inne effektiv allokering av ressurser i boligmarkedet, som vil føre til at tilbudet av boliger møter samfunnets behov. Likevektsprisen signaliserer den faktiske verdien på bolig, og vil informere både selgere og kjøpere. I et perfekt marked betyr også likevektsprisen at vi har nådd Pareto-effektivitet, som er når inget individ kan få en forbedring i dets velferd uten at det negativt påvirker en annens velferd, som er grunnsteinen i den ideelle tilstanden i samfunnsøkonomisk velferd."
   ]
  },
  {
   "cell_type": "markdown",
   "id": "cbcaccdb",
   "metadata": {
    "id": "bvUFS9gRK6Uh"
   },
   "source": [
    "### 2.3 Boligmarkedet og Perfekt Konkurranse: En mismatch"
   ]
  },
  {
   "cell_type": "markdown",
   "id": "300f6abc",
   "metadata": {
    "id": "terd8qwzK_TK"
   },
   "source": [
    "Dessverre er det noen aspekter ved boligmarkedet som gjør det umulig å oppfylle kriteriene for perfekt marked:\n",
    "\n",
    "- Informasjonsasymetri: Kjøpere og Selgere har ikke samme kunnskap om tilstanden på boligen, potensiell verdi i fremtiden, og andre kritiske faktorer - som fører til markedsineffektivitet.\n",
    "- Høye innsattskostnader: Å kjøpe og selge bolig kommer med flere andre kostnader som skatt, selgnrproveny, og andre legale kostnader, som fjerner boligmarkedet fra det frie markedet og forvrenger markedskondisjoner.\n",
    "- Immobilitet: Et perfekt marked forutsetter at kjøpere og tilbydere kan bevege seg og produktet til der prisen er mest gunstig. Dette er ikke mulig for boliger, og hver bolig er på mange måter unik. Samtidig er bolig immobilt som fører med seg geografiske begrensninger og skaper mindre lokale markeder som igjen forvrenger likheten mellom kjøpere og selgere.\n",
    "- Heterogenitet: Hver bolig er på mange måter unik, dette er dermed i direkte kontrast med antakelsen i et perfekt marked om at hvert produkt er likt."
   ]
  },
  {
   "cell_type": "markdown",
   "id": "54d44161",
   "metadata": {
    "id": "1rIfQ7RJLLoU"
   },
   "source": [
    "### 2.4 Samfunnsøkonomisk velferd og Boligmarkedet"
   ]
  },
  {
   "cell_type": "markdown",
   "id": "ef2e92c2",
   "metadata": {
    "id": "F49ykjC4LPVm"
   },
   "source": [
    "Det er en uttalt politikk i norge at bolig er en sentral del av velferdssamfunnet. Boligens verdi går utover bare monetær verdi da den også representerer nærhet til institusjoner, tilgang, og likhet. I det ideelle scenariet representerer markedskrysset ikke bare den mest samfunnsøkonomisk effektive tildelingen av ressurser, men også viser til at befolkningen får dekt sine individuelle behov som igjen styrker samfunnsøkonomisk velferd."
   ]
  },
  {
   "cell_type": "markdown",
   "id": "f6075d30",
   "metadata": {
    "id": "lGkApYdnLSjB"
   },
   "source": [
    "### 2.5 Markedsfeil og deres implikasjoner for samfunnsøkonomisk velferd"
   ]
  },
  {
   "cell_type": "markdown",
   "id": "5ff0421f",
   "metadata": {
    "id": "-KO2tsnzLVlx"
   },
   "source": [
    "Markedsfeil i boligmarkedet, inkludert monopolistiske tilfeller, eksternaliteter, og offentlige goder, har en sterk negativ effekt på samfunnsøkonomisk velferd. Noen eksempler er:\n",
    "\n",
    "- Monopolistiske markeder: Utbyggere og de som eier flere boliger kan affektere pris og tilgjengelighet på boliger, ved å hindre tilbud og øke prisene over markedslikevekten.\n",
    "- Eksternaliteter: Effekter av overkrowding, forurensning og lignende, pluss tilgangen på godt bevarte offentlige rom er ikke tatt med i boligprisen. Som kan føre til en suboptimal fordeling.\n",
    "- Offentlige goder: Et markedsstyrt boligmarked vil sannsynligvis ikke fokusere på offentlige goder og behov for lavinntektsfamilier, som kan føre til en kløft mellom markedseffekten og samfunnsmessige behov."
   ]
  },
  {
   "cell_type": "markdown",
   "id": "0d514394",
   "metadata": {
    "id": "ldiNvMRsLaN0"
   },
   "source": [
    "### 2.6 Hvordan deale med markedsfejl for å forbedre den samfunnsøkonomiske velferden"
   ]
  },
  {
   "cell_type": "markdown",
   "id": "874199cd",
   "metadata": {
    "id": "hsnpqqhFLa9x"
   },
   "source": [
    "Måter å addressere markedsfejl og styrke den samfunnsøkonomiske velferden inkluderer, endinger i regulering, endring i økonomi og finansiering, og subsidier. Disse tiltakene har som formål å korrigere markedsvridninger, promotere likere tilgang på boliger og sikre at boligmarkedet har en positiv effekt på samfunnet som helhet."
   ]
  },
  {
   "cell_type": "markdown",
   "id": "d6a50fdd",
   "metadata": {
    "id": "Yjfo-GYDCRwJ"
   },
   "source": [
    "## 3. Boligmarkedet i Tromsø"
   ]
  },
  {
   "cell_type": "markdown",
   "id": "fdb5577e",
   "metadata": {
    "id": "4M8RWdnxLj2G"
   },
   "source": [
    "I analysen av boligmarkedet i Tromsø vil vi bruke markedskrysset, en grunnleggende modell i økonomi som viser hvordan prisen på en vare eller tjeneste etableres gjennom samspillet mellom tilbud og etterspørsel.\n",
    "\n",
    "Tilbud og etterspørsel:\n",
    "\n",
    "Etterspørsel i boligmarkedet avhenger av faktorer som inntektsnivå, befolkningsvekst, rentenivå, og preferanser blant innbyggerne. Økt inntekt eller befolkningsvekst vil typisk øke etterspørselen etter boliger.\n",
    "Tilbudet på boliger påvirkes av tilgjengelig land, byggekostnader, reguleringer og politiske beslutninger. En økning i byggekostnader eller strengere reguleringer kan redusere tilbudet av boliger.\n",
    "Forutsetninger og markedskrysset: Selv om markedet for nye og brukte boliger har sine særtrekk, kan vi behandle boligmarkedet under ett for enklere analyse. Markedskrysset forutsetter fullkommen konkurranse, noe som sjelden er helt oppfylt i boligmarkedet grunnet unikheten til hver bolig og reguleringer. Likevel gir modellen en god tilnærming til å forstå dynamikken i markedet.\n",
    "\n",
    "Estimat på sentrale parametere: Selv uten avanserte økonometriske metoder, kan observasjoner av pris og antall solgte boliger gi innsikt i markedets dynamikk. For eksempel kan priselastisiteten på etterspørselen indikere hvordan etterspørselen endres med prisen.\n",
    "\n",
    "Analyse basert på datasett: Ved å dele året inn i kvartaler og analysere antall salg og gjennomsnittspris, kan vi identifisere trender og potensielt avdekke effekter av hendelser som renteendringer eller nye boligprosjekter. Variasjoner i disse datapunktene over tid kan gi indikasjoner på hvordan tilbud og etterspørsel endres."
   ]
  },
  {
   "cell_type": "markdown",
   "id": "d5cf2834",
   "metadata": {
    "id": "USIW2ZoYCVUD"
   },
   "source": [
    "### 3.1. Analyse av boligmarkedet 2019-2023"
   ]
  },
  {
   "cell_type": "markdown",
   "id": "4bf9af26",
   "metadata": {
    "id": "XKb3PnUiJwnt"
   },
   "source": [
    "Vi trenger flere data over hvor lenge boligene har ligget ute, og antall etterspørringer for å gjøre en deltajert studie over elastisiteten, men ved å se på endringen i etterspørsel ifht endringene i pris på boliger kan vi få en oversikt over potensielle etterspørselsendringer."
   ]
  },
  {
   "cell_type": "markdown",
   "id": "1e888a80",
   "metadata": {
    "id": "eZmvGMkYCfqF"
   },
   "source": [
    "### 3.2. Analyse av tiltak for å redusere boligpriser"
   ]
  },
  {
   "cell_type": "markdown",
   "id": "1c265db4",
   "metadata": {
    "id": "RfHL5fX0Cnqt"
   },
   "source": [
    "## 4. Konklusjon"
   ]
  },
  {
   "cell_type": "markdown",
   "id": "9180ad4d",
   "metadata": {
    "id": "weuYLrwaHvag"
   },
   "source": [
    "Som vi ser så hadde det vært slikt av det norske boligmarkedet fungerte perfekt så hadde alle former for tiltak ført til en nedgang i effektiviteten. Dessverre har ikke markedet insentiv til å hjelpe vwnskeligstilte, dermed må man gjøre noe."
   ]
  },
  {
   "cell_type": "markdown",
   "id": "bb0768eb",
   "metadata": {
    "id": "ek3W1dJKHb1q"
   },
   "source": [
    "# Appendix"
   ]
  },
  {
   "cell_type": "markdown",
   "id": "cf03aeac",
   "metadata": {
    "id": "irJG3O9AHiSV"
   },
   "source": [
    "## Kilder"
   ]
  },
  {
   "cell_type": "markdown",
   "id": "ec0cd475",
   "metadata": {
    "id": "j5bURetSMElG"
   },
   "source": [
    "Hoveddelen av koden er hentet fra koden funnet i oppgaven, eller andre koder fra githubrepositoriet til SOK-1006\n",
    "\n",
    "Lenke til datavask :https://github.com/uit-sok-1006-v24/sok-1006_notater/blob/main/data_vask_mappe1.ipynb\n",
    "\n",
    "Lenke til repo: https://github.com/uit-sok-1006-v24/sok-1006_notater"
   ]
  },
  {
   "cell_type": "markdown",
   "id": "7dc9a45a",
   "metadata": {
    "id": "l7jTcpPcHlEb"
   },
   "source": [
    "## Bruk av KI"
   ]
  }
 ],
 "metadata": {},
 "nbformat": 4,
 "nbformat_minor": 5
}
